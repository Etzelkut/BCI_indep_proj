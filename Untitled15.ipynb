{
  "nbformat": 4,
  "nbformat_minor": 0,
  "metadata": {
    "colab": {
      "name": "Untitled15.ipynb",
      "provenance": [],
      "collapsed_sections": []
    },
    "kernelspec": {
      "name": "python3",
      "display_name": "Python 3"
    }
  },
  "cells": [
    {
      "cell_type": "code",
      "metadata": {
        "id": "b79nmdze_RwP"
      },
      "source": [
        "from scipy import signal\r\n",
        "import matplotlib.pyplot as plt\r\n",
        "!pip install mne\r\n",
        "from mne.datasets import sample\r\n",
        "from mne.channels import combine_channels"
      ],
      "execution_count": null,
      "outputs": []
    },
    {
      "cell_type": "code",
      "metadata": {
        "id": "5HznKAwp07it"
      },
      "source": [
        "from scipy import io\r\n",
        "mat = io.loadmat(DIR)\r\n",
        "vals = mat[''][0,0] \r\n",
        "keys = mat[''][0,0].dtype.descr"
      ],
      "execution_count": null,
      "outputs": []
    },
    {
      "cell_type": "code",
      "metadata": {
        "id": "8j2ITZfM07lk"
      },
      "source": [
        "from google.colab import drive\r\n",
        "drive.mount('/content/gdrive', force_remount=True)\r\n",
        "\r\n",
        "DIR = '/content/gdrive/My Drive/sess01_subj01_EEG_ERP.mat'\r\n",
        "from mne.externals.pymatreader import read_mat\r\n",
        "mat_data = read_mat(path)\r\n",
        "\r\n",
        "\r\n",
        "\r\n",
        "data_path = sample.data_path()\r\n",
        "raw_fname = data_path + '/content/gdrive/My Drive/sess01_subj01_EEG_ERP.mat'      \r\n",
        "event_fname = data_path + '/content/gdrive/My Drive/sess01_subj01_EEG_ERP-eve.mat'\r\n",
        "raw = mne.io.read_raw_fif(raw_fname)\r\n",
        "\r\n",
        "scipy.io.loadmat(filename)"
      ],
      "execution_count": null,
      "outputs": []
    },
    {
      "cell_type": "code",
      "metadata": {
        "id": "OxFGerFb_7OT"
      },
      "source": [
        "b, a = signal.butter(5, [0.5 40]], 'low', analog=True)"
      ],
      "execution_count": null,
      "outputs": []
    },
    {
      "cell_type": "code",
      "metadata": {
        "id": "4jnBp6hPBujl"
      },
      "source": [
        "import tables\r\n",
        "file = tables.openFile('test.mat')\r\n",
        "lon = file.root.lon[:]\r\n",
        "lat = file.root.lat[:]\r\n",
        "# Alternate syntax if the variable name is in a string\r\n",
        "varname = 'lon'\r\n",
        "lon = file.getNode('/' + varname)[:]"
      ],
      "execution_count": null,
      "outputs": []
    },
    {
      "cell_type": "code",
      "metadata": {
        "id": "8EzgEMTcJqpU"
      },
      "source": [
        "from scipy import io\r\n",
        "mat = io.loadmat(DIR)\r\n",
        "mat"
      ],
      "execution_count": null,
      "outputs": []
    }
  ]
}