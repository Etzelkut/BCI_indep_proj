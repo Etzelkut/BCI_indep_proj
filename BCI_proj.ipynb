{
  "nbformat": 4,
  "nbformat_minor": 0,
  "metadata": {
    "colab": {
      "name": "BCI_proj.ipynb",
      "provenance": []
    },
    "kernelspec": {
      "name": "python3",
      "display_name": "Python 3"
    },
    "accelerator": "GPU"
  },
  "cells": [
    {
      "cell_type": "code",
      "metadata": {
        "id": "swQTN0CjAi_K"
      },
      "source": [
        "!mkdir data\n",
        "!cp \"/content/drive/MyDrive/bci_proj/s2_1.zip\" \"/content/data\"\n",
        "!unzip -n -q \"/content/data/s2_1.zip\" -x / -d \"/content/data\""
      ],
      "execution_count": 1,
      "outputs": []
    },
    {
      "cell_type": "code",
      "metadata": {
        "id": "4XyI3BxtPCHX"
      },
      "source": [
        "!pip install mne\n",
        "!pip install -U scikit-learn\n",
        "!pip install pytorch-lightning\n",
        "!pip install comet-ml\n",
        "!pip install local-attention\n",
        "!pip install einops"
      ],
      "execution_count": null,
      "outputs": []
    },
    {
      "cell_type": "code",
      "metadata": {
        "id": "2wJ7z30ZAq7M"
      },
      "source": [
        "from depen import *"
      ],
      "execution_count": 1,
      "outputs": []
    },
    {
      "cell_type": "code",
      "metadata": {
        "id": "CcTeTz5IZoS-"
      },
      "source": [
        "from MI import MI_csp_lda"
      ],
      "execution_count": 2,
      "outputs": []
    },
    {
      "cell_type": "code",
      "metadata": {
        "id": "DF0up0vtdkUd"
      },
      "source": [
        "path = \"/content/data/sess01_subj02_EEG_MI.mat\"\n",
        "mat_train, mat_test = get_mat_file(path)\n",
        "\n",
        "m = MI_csp_lda()"
      ],
      "execution_count": 5,
      "outputs": []
    },
    {
      "cell_type": "code",
      "metadata": {
        "id": "2QNVBmNMdmTS"
      },
      "source": [
        "m.train_on_data(mat_train)"
      ],
      "execution_count": null,
      "outputs": []
    },
    {
      "cell_type": "code",
      "metadata": {
        "id": "rRrySdD2dtk-"
      },
      "source": [
        "m.check_data(mat_test)"
      ],
      "execution_count": null,
      "outputs": []
    },
    {
      "cell_type": "code",
      "metadata": {
        "id": "B1I7KiFx5zG6"
      },
      "source": [
        "###############DEEP LEARNING###########"
      ],
      "execution_count": null,
      "outputs": []
    },
    {
      "cell_type": "code",
      "metadata": {
        "colab": {
          "base_uri": "https://localhost:8080/",
          "height": 35
        },
        "id": "Ppv2kbNgXuAS",
        "outputId": "3e1b02d0-3886-458a-a328-36e9572cd33d"
      },
      "source": [
        "from hparams import hyperparams\n",
        "hyperparams.path_to_files"
      ],
      "execution_count": 2,
      "outputs": [
        {
          "output_type": "execute_result",
          "data": {
            "application/vnd.google.colaboratory.intrinsic+json": {
              "type": "string"
            },
            "text/plain": [
              "'/content/data'"
            ]
          },
          "metadata": {
            "tags": []
          },
          "execution_count": 2
        }
      ]
    },
    {
      "cell_type": "code",
      "metadata": {
        "id": "nRnBX9TvN7_7"
      },
      "source": [
        "from model import BCI_model_pl\n",
        "from datasets import BCI_pl_dataset\n",
        "\n",
        "from comet_ml import Experiment\n",
        "from pytorch_lightning.loggers import CometLogger\n",
        "from pytorch_lightning import Trainer\n",
        "from pytorch_lightning.callbacks import LearningRateMonitor, ModelCheckpoint"
      ],
      "execution_count": 3,
      "outputs": []
    },
    {
      "cell_type": "code",
      "metadata": {
        "id": "omI1vQ30h7QW"
      },
      "source": [
        "class CheckpointEveryNSteps(pl.Callback):\n",
        "    \"\"\"\n",
        "    Save a checkpoint every N steps, instead of Lightning's default that checkpoints\n",
        "    based on validation loss.\n",
        "    \"\"\"\n",
        "\n",
        "    def __init__(\n",
        "        self,\n",
        "        save_step_frequency,\n",
        "        prefix=\"N-Step-Checkpoint\",\n",
        "        use_modelcheckpoint_filename=False,\n",
        "    ):\n",
        "        \"\"\"\n",
        "        Args:\n",
        "            save_step_frequency: how often to save in steps\n",
        "            prefix: add a prefix to the name, only used if\n",
        "                use_modelcheckpoint_filename=False\n",
        "            use_modelcheckpoint_filename: just use the ModelCheckpoint callback's\n",
        "                default filename, don't use ours.\n",
        "        \"\"\"\n",
        "        self.save_step_frequency = save_step_frequency\n",
        "        self.prefix = prefix\n",
        "        self.use_modelcheckpoint_filename = use_modelcheckpoint_filename\n",
        "\n",
        "    def on_batch_end(self, trainer: pl.Trainer, _):\n",
        "        \"\"\" Check if we should save a checkpoint after every train batch \"\"\"\n",
        "        epoch = trainer.current_epoch\n",
        "        global_step = trainer.global_step\n",
        "        if global_step % self.save_step_frequency == 0:\n",
        "            if self.use_modelcheckpoint_filename:\n",
        "                filename = trainer.checkpoint_callback.filename\n",
        "            else:\n",
        "                filename = f\"{self.prefix}_{epoch}_{global_step}.ckpt\"\n",
        "            ckpt_path = os.path.join(trainer.checkpoint_callback.dirpath, filename)\n",
        "            trainer.save_checkpoint(ckpt_path)"
      ],
      "execution_count": 4,
      "outputs": []
    },
    {
      "cell_type": "code",
      "metadata": {
        "id": "-46sy_N4h7TK"
      },
      "source": [
        "seed_e(42)"
      ],
      "execution_count": 5,
      "outputs": []
    },
    {
      "cell_type": "code",
      "metadata": {
        "colab": {
          "base_uri": "https://localhost:8080/"
        },
        "id": "1XDT2MWsh7WF",
        "outputId": "f8a08162-25c2-4e48-db7b-e6608fb2fb42"
      },
      "source": [
        "comet_logger = CometLogger(\n",
        "    save_dir='/content/log/',\n",
        "    api_key=\"23CU99n7TeyZdPeegNDlQ5aHf\",\n",
        "    project_name=\"bci\",\n",
        "    workspace=\"etzelkut\",\n",
        "    # rest_api_key=os.environ[\"COMET_REST_KEY\"], # Optional\n",
        "    # experiment_name=\"default\" # Optional\n",
        ")"
      ],
      "execution_count": 6,
      "outputs": [
        {
          "output_type": "stream",
          "text": [
            "CometLogger will be initialized in online mode\n"
          ],
          "name": "stderr"
        }
      ]
    },
    {
      "cell_type": "code",
      "metadata": {
        "colab": {
          "base_uri": "https://localhost:8080/"
        },
        "id": "obQl7eGTh7Zi",
        "outputId": "7ec724c1-1a6d-414c-87aa-fc43c0e9535b"
      },
      "source": [
        "dataset_pl = BCI_pl_dataset(hyperparams)\n",
        "dataset_pl.prepare_data()\n",
        "dataset_pl.setup()\n",
        "train_loader = dataset_pl.train_dataloader()\n",
        "steps_per_epoch = int(len(train_loader))\n",
        "print(steps_per_epoch)"
      ],
      "execution_count": 7,
      "outputs": [
        {
          "output_type": "stream",
          "text": [
            "gg\n",
            "MERGING !!!!!!!!!\n",
            "eeg shape:  (100, 62, 4000)\n",
            "Adding metadata with 2 columns\n",
            "Replacing existing metadata with 2 columns\n",
            "100 matching events found\n",
            "No baseline correction applied\n",
            "0 projection items activated\n",
            "0 bad epochs dropped\n",
            "eeg shape:  (100, 62, 4000)\n",
            "Adding metadata with 2 columns\n",
            "Replacing existing metadata with 2 columns\n",
            "100 matching events found\n",
            "No baseline correction applied\n",
            "0 projection items activated\n",
            "0 bad epochs dropped\n",
            "(1980, 62, 4000)\n",
            "eeg shape:  (1980, 62, 4000)\n",
            "Adding metadata with 2 columns\n",
            "Replacing existing metadata with 2 columns\n",
            "1980 matching events found\n",
            "No baseline correction applied\n",
            "0 projection items activated\n",
            "0 bad epochs dropped\n",
            "(2160, 62, 4000)\n",
            "eeg shape:  (2160, 62, 4000)\n",
            "Adding metadata with 2 columns\n",
            "Replacing existing metadata with 2 columns\n",
            "2160 matching events found\n",
            "No baseline correction applied\n",
            "0 projection items activated\n",
            "0 bad epochs dropped\n",
            "eeg shape:  (100, 62, 4000)\n",
            "Adding metadata with 2 columns\n",
            "Replacing existing metadata with 2 columns\n",
            "100 matching events found\n",
            "No baseline correction applied\n",
            "0 projection items activated\n",
            "0 bad epochs dropped\n",
            "eeg shape:  (100, 62, 4000)\n",
            "Adding metadata with 2 columns\n",
            "Replacing existing metadata with 2 columns\n",
            "100 matching events found\n",
            "No baseline correction applied\n",
            "0 projection items activated\n",
            "0 bad epochs dropped\n",
            "data_mi_train:  (100, 62, 400) \n",
            " data_mi_test:  (100, 62, 400) \n",
            " data_erp_train:  (1980, 62, 400) \n",
            " data_erp_test:  (2160, 62, 400) \n",
            " data_ssvep_train:  (100, 62, 400) \n",
            " data_ssvep_test:  (100, 62, 400) \n",
            "\n",
            "data_mi_train:  (100, 62, 400) \n",
            " data_mi_test:  (100, 62, 400) \n",
            " data_erp_train:  (200, 62, 400) \n",
            " data_erp_test:  (200, 62, 400) \n",
            " data_ssvep_train:  (100, 62, 400) \n",
            " data_ssvep_test:  (100, 62, 400) \n",
            "\n",
            "concat!!!!!!\n",
            "10\n"
          ],
          "name": "stdout"
        }
      ]
    },
    {
      "cell_type": "code",
      "metadata": {
        "colab": {
          "base_uri": "https://localhost:8080/"
        },
        "id": "ykTsUUnch7bs",
        "outputId": "4d19125d-16ba-4f25-89fa-23e7432da8c4"
      },
      "source": [
        "checkpoint_callback = ModelCheckpoint(\n",
        "                                      monitor='val_loss',\n",
        "                                      save_last=True, \n",
        "                                      dirpath= \"/content/drive/MyDrive/bci_proj/gg\",#os.path.join(path, \"/checkpoints\"),\n",
        "                                      filename='samplemodel{epoch}.ckpt',\n",
        "                                      save_top_k=3,\n",
        "                                      mode='min',\n",
        "                                      )\n",
        "every_epoch = CheckpointEveryNSteps(save_step_frequency = steps_per_epoch, use_modelcheckpoint_filename = True)"
      ],
      "execution_count": 8,
      "outputs": [
        {
          "output_type": "stream",
          "text": [
            "/usr/local/lib/python3.6/dist-packages/pytorch_lightning/utilities/distributed.py:49: UserWarning: Checkpoint directory /content/drive/MyDrive/bci_proj/gg exists and is not empty. With save_top_k=3, all files in this directory will be deleted when a checkpoint is saved!\n",
            "  warnings.warn(*args, **kwargs)\n"
          ],
          "name": "stderr"
        }
      ]
    },
    {
      "cell_type": "code",
      "metadata": {
        "colab": {
          "base_uri": "https://localhost:8080/"
        },
        "id": "gkty0Mqlh7eY",
        "outputId": "f4223423-abe5-4cf3-ce8a-a82095846fbc"
      },
      "source": [
        "model = BCI_model_pl(hyperparams, steps_per_epoch = steps_per_epoch)"
      ],
      "execution_count": 9,
      "outputs": [
        {
          "output_type": "stream",
          "text": [
            "softmax\n",
            "glu\n"
          ],
          "name": "stdout"
        }
      ]
    },
    {
      "cell_type": "code",
      "metadata": {
        "colab": {
          "base_uri": "https://localhost:8080/"
        },
        "id": "g0jPt0xZiKzf",
        "outputId": "349a42d3-44ea-4adc-8cd4-3a1777328cbc"
      },
      "source": [
        "trainer = Trainer(callbacks=[checkpoint_callback, every_epoch], #lr_monitor],\n",
        "                    logger=comet_logger,\n",
        "                    gpus=1,\n",
        "                    profiler=True,\n",
        "                    #auto_lr_find=True, #set hparams\n",
        "                    #gradient_clip_val=0.5,\n",
        "                    check_val_every_n_epoch=2,\n",
        "                    #early_stop_callback=True,\n",
        "                    max_epochs = hyperparams.epochs,\n",
        "                    #min_epochs=400,\n",
        "                    progress_bar_refresh_rate = 0,\n",
        "                    deterministic=True,)"
      ],
      "execution_count": 10,
      "outputs": [
        {
          "output_type": "stream",
          "text": [
            "/usr/local/lib/python3.6/dist-packages/pytorch_lightning/utilities/distributed.py:49: UserWarning: You have set progress_bar_refresh_rate < 20 on Google Colab. This may crash. Consider using progress_bar_refresh_rate >= 20 in Trainer.\n",
            "  warnings.warn(*args, **kwargs)\n",
            "GPU available: True, used: True\n",
            "TPU available: None, using: 0 TPU cores\n",
            "LOCAL_RANK: 0 - CUDA_VISIBLE_DEVICES: [0]\n"
          ],
          "name": "stderr"
        }
      ]
    },
    {
      "cell_type": "code",
      "metadata": {
        "id": "nq6tLu0ZiK2Y"
      },
      "source": [
        "trainer.fit(model, dataset_pl)"
      ],
      "execution_count": null,
      "outputs": []
    },
    {
      "cell_type": "code",
      "metadata": {
        "id": "i4J-Ep08r4Hf"
      },
      "source": [
        "#100, 62, 400"
      ],
      "execution_count": null,
      "outputs": []
    },
    {
      "cell_type": "code",
      "metadata": {
        "id": "vBemyfh6iK4u"
      },
      "source": [
        "trainer.test()"
      ],
      "execution_count": null,
      "outputs": []
    },
    {
      "cell_type": "code",
      "metadata": {
        "id": "xs0T3_OEiK8c"
      },
      "source": [
        "checkpoint_name = os.path.join(\"/content/drive/MyDrive/bci_proj/gg\", 'manual_save' + str(228) + '.ckpt')\n",
        "trainer.save_checkpoint(checkpoint_name)"
      ],
      "execution_count": 18,
      "outputs": []
    },
    {
      "cell_type": "code",
      "metadata": {
        "colab": {
          "base_uri": "https://localhost:8080/"
        },
        "id": "Wk3PwwWpaKie",
        "outputId": "f3e51479-89f9-4ce4-f777-42aa1bd62cce"
      },
      "source": [
        "model = BCI_model_pl.load_from_checkpoint(\"/content/drive/MyDrive/bci_proj/gg/manual_save228.ckpt\")"
      ],
      "execution_count": 11,
      "outputs": [
        {
          "output_type": "stream",
          "text": [
            "softmax\n",
            "glu\n"
          ],
          "name": "stdout"
        }
      ]
    },
    {
      "cell_type": "code",
      "metadata": {
        "colab": {
          "base_uri": "https://localhost:8080/"
        },
        "id": "E1LqlPX5jBYr",
        "outputId": "e907e521-5618-4bdf-c41f-0c9884d8b152"
      },
      "source": [
        "trainer.test(model, dataset_pl.train_dataloader())"
      ],
      "execution_count": 87,
      "outputs": [
        {
          "output_type": "stream",
          "text": [
            "COMET INFO: Experiment is live on comet.ml https://www.comet.ml/etzelkut/bci/9bededef00a5439399ffbe18024f2563\n",
            "\n",
            "/usr/local/lib/python3.6/dist-packages/pytorch_lightning/utilities/distributed.py:49: UserWarning: Your test_dataloader has `shuffle=True`, it is best practice to turn this off for validation and test dataloaders.\n",
            "  warnings.warn(*args, **kwargs)\n"
          ],
          "name": "stderr"
        },
        {
          "output_type": "stream",
          "text": [
            "--------------------------------------------------------------------------------\n",
            "DATALOADER:0 TEST RESULTS\n",
            "{'test_acc': tensor(96.2500, device='cuda:0'),\n",
            " 'test_loss': tensor(0.2191, device='cuda:0')}\n",
            "--------------------------------------------------------------------------------\n"
          ],
          "name": "stdout"
        },
        {
          "output_type": "execute_result",
          "data": {
            "text/plain": [
              "[{'test_acc': 96.25, 'test_loss': 0.2190903127193451}]"
            ]
          },
          "metadata": {
            "tags": []
          },
          "execution_count": 87
        }
      ]
    },
    {
      "cell_type": "code",
      "metadata": {
        "id": "7-S99fCGOvLU"
      },
      "source": [
        "def data_get(train_dataloader):\n",
        "  x, y, z = torch.zeros((len(train_dataloader) * 64, 62, 400)), torch.zeros((len(train_dataloader) * 64)), torch.zeros((len(train_dataloader) * 64))\n",
        "  i = 0\n",
        "  for batch in train_dataloader:\n",
        "    xx, yy, zz = batch\n",
        "    i_top = len(xx)\n",
        "    print(xx.shape, i, i+i_top)\n",
        "    x[i:i+i_top] = xx\n",
        "    y[i:i+i_top] = yy\n",
        "    z[i:i+i_top] = zz\n",
        "    i += i_top\n",
        "  x, y, z = x[:i], y[:i], z[:i]\n",
        "  return x, y, z"
      ],
      "execution_count": 29,
      "outputs": []
    },
    {
      "cell_type": "code",
      "metadata": {
        "id": "mK2_AAK8X67D"
      },
      "source": [
        "from MI import clean_data, preproc_data, csp_time_window, choose_csp_filters, forward_csp\n",
        "def get_data_proccesed(mi_train, mi_train_label, sfrec = 100, ):\n",
        "  channels = np.array(['Fp1', 'Fp2', 'F7', 'F3', 'Fz', 'F4', 'F8', 'FC5', 'FC1', 'FC2',\n",
        "       'FC6', 'T7', 'C3', 'Cz', 'C4', 'T8', 'TP9', 'CP5', 'CP1', 'CP2',\n",
        "       'CP6', 'TP10', 'P7', 'P3', 'Pz', 'P4', 'P8', 'PO9', 'O1', 'Oz',\n",
        "       'O2', 'PO10', 'FC3', 'FC4', 'C5', 'C1', 'C2', 'C6', 'CP3', 'CPz',\n",
        "       'CP4', 'P1', 'P2', 'POz', 'FT9', 'FTT9h', 'TTP7h', 'TP7', 'TPP9h',\n",
        "       'FT10', 'FTT10h', 'TPP8h', 'TP8', 'TPP10h', 'F9', 'F10', 'AF7',\n",
        "       'AF3', 'AF4', 'AF8', 'PO3', 'PO4'], dtype=object)\n",
        "  eeg_data = mi_train\n",
        "  print(\"eeg shape: \", eeg_data.shape)\n",
        "  labels = mi_train_label # 0 - right, 1 - left # 0 - up, 1 - left, 2 - right, 3 - down\n",
        "  ch_names = channels.tolist()\n",
        "  ch_types = ['eeg'] * len(channels)\n",
        "  info = mne.create_info(ch_names=ch_names, sfreq=sfrec, ch_types=ch_types)\n",
        "  #\n",
        "  label_metadata = {'ids': labels.tolist(),}\n",
        "\n",
        "  df = pd.DataFrame(label_metadata, columns = ['ids'])\n",
        "  epochs_data = mne.EpochsArray(eeg_data, info=info, metadata=df)\n",
        "  return epochs_data\n",
        "\n",
        "class MI_csp_lda_proccesed():\n",
        "  def __init__(self):\n",
        "    from sklearn.discriminant_analysis import LinearDiscriminantAnalysis\n",
        "    self.lda = LinearDiscriminantAnalysis(solver='eigen', shrinkage=0.25)\n",
        "  \n",
        "  def train_on_data(self, mi_train, mi_train_label):\n",
        "    data = get_data_proccesed(mi_train, mi_train_label)\n",
        "    data = clean_data(data, new_rate=None)\n",
        "    #plot_spectral(data)\n",
        "    data = preproc_data(data)\n",
        "    #plot_spectral(data, left = 'cyan', right= 'pink')    \n",
        "\n",
        "    d, W = csp_time_window(data)\n",
        "    self.csp = choose_csp_filters(W)\n",
        "\n",
        "    var_left = forward_csp(data[\"ids == 1\"], self.csp)\n",
        "    var_right = forward_csp(data[\"ids == 0\"], self.csp)\n",
        "\n",
        "    data_points = np.concatenate((var_left, var_right), axis = 0)\n",
        "    labels = [1] * len(var_left) + [0] * len(var_right)\n",
        "    print(labels)\n",
        "    self.lda.fit(data_points, labels)\n",
        "\n",
        "    print(self.lda.predict([var_right[0]]))\n",
        "  \n",
        "  def check_data(self, mi_train, mi_train_label):\n",
        "    \n",
        "    data = get_data_proccesed(mi_train, mi_train_label)\n",
        "    x = clean_data(data, new_rate=None)\n",
        "\n",
        "    #plot_spectral(x) #left - blue, right - red\n",
        "\n",
        "    x = preproc_data(x)\n",
        "    #plot_spectral(x, left = 'cyan', right= 'pink')\n",
        "\n",
        "    labels = x.metadata['ids'].tolist()\n",
        "\n",
        "    var = forward_csp(x, self.csp)\n",
        "\n",
        "    label_list = self.lda.predict(var)\n",
        "    acc = self.lda.score(var, labels)\n",
        "\n",
        "    print(\n",
        "      \"label_list: \",\n",
        "      label_list, \"\\n accuracy: \", \n",
        "      acc,\n",
        "    )\n",
        "\n",
        "    return acc, label_list"
      ],
      "execution_count": 37,
      "outputs": []
    },
    {
      "cell_type": "code",
      "metadata": {
        "colab": {
          "base_uri": "https://localhost:8080/"
        },
        "id": "oGOVjhrdUkLB",
        "outputId": "4a461f43-9672-4c35-a5e1-c2ad66061a1d"
      },
      "source": [
        "x, y, z = data_get(dataset_pl.train_dataloader())\n",
        "x, y, z = x.numpy(), y.numpy(), z.numpy()\n",
        "mi_train = x[np.where(y == 0)]\n",
        "mi_train_label = z[np.where(y == 0)]"
      ],
      "execution_count": 55,
      "outputs": [
        {
          "output_type": "stream",
          "text": [
            "torch.Size([64, 62, 400]) 0 64\n",
            "torch.Size([64, 62, 400]) 64 128\n",
            "torch.Size([64, 62, 400]) 128 192\n",
            "torch.Size([64, 62, 400]) 192 256\n",
            "torch.Size([64, 62, 400]) 256 320\n",
            "torch.Size([64, 62, 400]) 320 384\n",
            "torch.Size([64, 62, 400]) 384 448\n",
            "torch.Size([64, 62, 400]) 448 512\n",
            "torch.Size([64, 62, 400]) 512 576\n",
            "torch.Size([64, 62, 400]) 576 640\n"
          ],
          "name": "stdout"
        }
      ]
    },
    {
      "cell_type": "code",
      "metadata": {
        "id": "QsJ-B5iqbn_O"
      },
      "source": [
        "mi_m = MI_csp_lda_proccesed()"
      ],
      "execution_count": 39,
      "outputs": []
    },
    {
      "cell_type": "code",
      "metadata": {
        "colab": {
          "base_uri": "https://localhost:8080/"
        },
        "id": "D01pzVNWcD16",
        "outputId": "bf7eb891-aa17-4d21-8e7f-aeb1b27755f6"
      },
      "source": [
        "mi_m.train_on_data(mi_train, mi_train_label)"
      ],
      "execution_count": 40,
      "outputs": [
        {
          "output_type": "stream",
          "text": [
            "eeg shape:  (160, 62, 400)\n",
            "Adding metadata with 1 columns\n",
            "Replacing existing metadata with 1 columns\n",
            "160 matching events found\n",
            "No baseline correction applied\n",
            "0 projection items activated\n",
            "0 bad epochs dropped\n",
            "new data shape:  (160, 20, 400)\n",
            "Setting up band-pass filter from 8 - 30 Hz\n",
            "\n",
            "IIR filter parameters\n",
            "---------------------\n",
            "Butterworth bandpass zero-phase (two-pass forward and reverse) non-causal filter:\n",
            "- Filter order 20 (effective, after forward-backward)\n",
            "- Cutoffs at 8.00, 30.00 Hz: -6.02, -6.02 dB\n",
            "\n",
            "checking eigenvector  0\n",
            "0.3775155855195199\n",
            "0.6224349868053698\n",
            "csp shape:  (20, 4)\n",
            "[1, 1, 1, 1, 1, 1, 1, 1, 1, 1, 1, 1, 1, 1, 1, 1, 1, 1, 1, 1, 1, 1, 1, 1, 1, 1, 1, 1, 1, 1, 1, 1, 1, 1, 1, 1, 1, 1, 1, 1, 1, 1, 1, 1, 1, 1, 1, 1, 1, 1, 1, 1, 1, 1, 1, 1, 1, 1, 1, 1, 1, 1, 1, 1, 1, 1, 1, 1, 1, 1, 1, 1, 1, 1, 1, 0, 0, 0, 0, 0, 0, 0, 0, 0, 0, 0, 0, 0, 0, 0, 0, 0, 0, 0, 0, 0, 0, 0, 0, 0, 0, 0, 0, 0, 0, 0, 0, 0, 0, 0, 0, 0, 0, 0, 0, 0, 0, 0, 0, 0, 0, 0, 0, 0, 0, 0, 0, 0, 0, 0, 0, 0, 0, 0, 0, 0, 0, 0, 0, 0, 0, 0, 0, 0, 0, 0, 0, 0, 0, 0, 0, 0, 0, 0, 0, 0, 0, 0, 0, 0]\n",
            "[0]\n"
          ],
          "name": "stdout"
        }
      ]
    },
    {
      "cell_type": "code",
      "metadata": {
        "colab": {
          "base_uri": "https://localhost:8080/"
        },
        "id": "52-k-bcIdMZa",
        "outputId": "2916a5dd-03b9-423c-f2aa-e36e1a6497e3"
      },
      "source": [
        "xt, yt, zt = data_get(dataset_pl.test_dataloader())\n",
        "xt, yt, zt = xt.numpy(), yt.numpy(), zt.numpy()\n",
        "mi_test = xt[np.where(yt == 0)]\n",
        "mi_test_label = zt[np.where(yt == 0)]"
      ],
      "execution_count": 71,
      "outputs": [
        {
          "output_type": "stream",
          "text": [
            "torch.Size([64, 62, 400]) 0 64\n",
            "torch.Size([16, 62, 400]) 64 80\n"
          ],
          "name": "stdout"
        }
      ]
    },
    {
      "cell_type": "code",
      "metadata": {
        "colab": {
          "base_uri": "https://localhost:8080/"
        },
        "id": "7M2OonozcWcx",
        "outputId": "bef6f00c-eabf-4538-d1cf-c3b2ddffadc1"
      },
      "source": [
        "mi_m.check_data(mi_test, mi_test_label)"
      ],
      "execution_count": 42,
      "outputs": [
        {
          "output_type": "stream",
          "text": [
            "eeg shape:  (23, 62, 400)\n",
            "Adding metadata with 1 columns\n",
            "Replacing existing metadata with 1 columns\n",
            "23 matching events found\n",
            "No baseline correction applied\n",
            "0 projection items activated\n",
            "0 bad epochs dropped\n",
            "new data shape:  (23, 20, 400)\n",
            "Setting up band-pass filter from 8 - 30 Hz\n",
            "\n",
            "IIR filter parameters\n",
            "---------------------\n",
            "Butterworth bandpass zero-phase (two-pass forward and reverse) non-causal filter:\n",
            "- Filter order 20 (effective, after forward-backward)\n",
            "- Cutoffs at 8.00, 30.00 Hz: -6.02, -6.02 dB\n",
            "\n",
            "label_list:  [1 1 1 1 1 1 0 0 1 1 0 1 1 0 0 0 1 0 0 1 1 1 0] \n",
            " accuracy:  0.9130434782608695\n"
          ],
          "name": "stdout"
        },
        {
          "output_type": "execute_result",
          "data": {
            "text/plain": [
              "(0.9130434782608695,\n",
              " array([1, 1, 1, 1, 1, 1, 0, 0, 1, 1, 0, 1, 1, 0, 0, 0, 1, 0, 0, 1, 1, 1,\n",
              "        0]))"
            ]
          },
          "metadata": {
            "tags": []
          },
          "execution_count": 42
        }
      ]
    },
    {
      "cell_type": "code",
      "metadata": {
        "id": "zj_Pfmine2m5"
      },
      "source": [
        "def leave_occipital_ch(eeg_data):\n",
        "  eeg_channels_indices = [22, 23, 24, 25, 26, 27, 31, 28, 29]\n",
        "  \n",
        "  eeg_data_occipital = np.empty((10, eeg_data.shape[0], eeg_data.shape[2]))\n",
        "  eeg_data = np.transpose(eeg_data, (1, 0, 2))\n",
        "  for i, channel in enumerate(eeg_channels_indices, start=0):\n",
        "    eeg_data_occipital[i] = eeg_data[channel]\n",
        "  \n",
        "  return eeg_data_occipital"
      ],
      "execution_count": 57,
      "outputs": []
    },
    {
      "cell_type": "code",
      "metadata": {
        "id": "qnzYVciyfNDY"
      },
      "source": [
        "from sklearn.cross_decomposition import CCA\n",
        "import math\n",
        "\n",
        "def SSVEP_CCA(eeg_data):\n",
        "\n",
        "  T = np.arange(start=0, stop=4, step=1/100)\n",
        "\n",
        "  trials = eeg_data.shape[0]\n",
        "\n",
        "  freqs = [12, 8.57, 6.67, 5.45]\n",
        "  pred_freq_score = np.empty(trials)\n",
        "  pred_freq_class = np.empty(trials, dtype=np.int8)\n",
        "\n",
        "  X = np.transpose(eeg_data, (0,2,1))\n",
        "  \n",
        "  for x_index, x in enumerate(X, start=0):\n",
        "    Y = np.empty((4, len(T), 4))\n",
        "    for i in range(4):\n",
        "      for t_index, t in enumerate(T, start=0):\n",
        "        ref = 2*math.pi*freqs[i]*t\n",
        "        Y[i][t_index] = [math.sin(ref), math.cos(ref), math.sin(ref*2), math.cos(ref*2)]\n",
        "      \n",
        "    cca = CCA()\n",
        "    scores = np.empty(4)\n",
        "    for y_index, y in enumerate(Y, start=0):\n",
        "      cca.fit(x, y)\n",
        "      scores[y_index] = cca.score(x, y)\n",
        "    \n",
        "    pred_freq_score[x_index] = scores.max()\n",
        "    pred_freq_class[x_index] = scores.argmax() + 1\n",
        "  \n",
        "  return pred_freq_class"
      ],
      "execution_count": 78,
      "outputs": []
    },
    {
      "cell_type": "code",
      "metadata": {
        "id": "wUvcPP6Ee3-o"
      },
      "source": [
        "#[0] * len(mi_test) + [1] * len(erp_test) + [2] * len(ssvep_test)\n",
        "mi_train_ss = xt[np.where(yt == 2)]\n",
        "mi_train_ss_label = zt[np.where(yt == 2)]"
      ],
      "execution_count": 79,
      "outputs": []
    },
    {
      "cell_type": "code",
      "metadata": {
        "id": "OZDBV4NmfTTP"
      },
      "source": [
        "eeg = leave_occipital_ch(mi_train_ss)"
      ],
      "execution_count": 80,
      "outputs": []
    },
    {
      "cell_type": "code",
      "metadata": {
        "colab": {
          "base_uri": "https://localhost:8080/"
        },
        "id": "abrxEXOIiBMG",
        "outputId": "5ebc7d99-14b6-4433-dce8-31c9f1ea5f13"
      },
      "source": [
        "np.transpose(eeg, (1, 0, 2)).shape"
      ],
      "execution_count": 81,
      "outputs": [
        {
          "output_type": "execute_result",
          "data": {
            "text/plain": [
              "(22, 10, 400)"
            ]
          },
          "metadata": {
            "tags": []
          },
          "execution_count": 81
        }
      ]
    },
    {
      "cell_type": "code",
      "metadata": {
        "id": "KxCN1hsCfica"
      },
      "source": [
        "ll = SSVEP_CCA(np.transpose(eeg, (1, 0, 2)))"
      ],
      "execution_count": 82,
      "outputs": []
    },
    {
      "cell_type": "code",
      "metadata": {
        "colab": {
          "base_uri": "https://localhost:8080/"
        },
        "id": "iyjtFRiMgp_9",
        "outputId": "f03a88af-39cf-4087-a6f0-dbe9ec43353b"
      },
      "source": [
        "mi_train_ss_label + 1"
      ],
      "execution_count": 84,
      "outputs": [
        {
          "output_type": "execute_result",
          "data": {
            "text/plain": [
              "array([3., 3., 2., 2., 1., 2., 4., 4., 2., 2., 3., 1., 3., 2., 2., 3., 1.,\n",
              "       1., 4., 4., 1., 3.], dtype=float32)"
            ]
          },
          "metadata": {
            "tags": []
          },
          "execution_count": 84
        }
      ]
    },
    {
      "cell_type": "code",
      "metadata": {
        "colab": {
          "base_uri": "https://localhost:8080/"
        },
        "id": "fR1JCBPAglpz",
        "outputId": "e50419ec-1a15-466b-d962-3703880934cf"
      },
      "source": [
        "ll"
      ],
      "execution_count": 83,
      "outputs": [
        {
          "output_type": "execute_result",
          "data": {
            "text/plain": [
              "array([3, 3, 2, 2, 1, 2, 4, 4, 2, 2, 3, 1, 3, 2, 2, 3, 1, 1, 4, 4, 1, 3],\n",
              "      dtype=int8)"
            ]
          },
          "metadata": {
            "tags": []
          },
          "execution_count": 83
        }
      ]
    },
    {
      "cell_type": "code",
      "metadata": {
        "colab": {
          "base_uri": "https://localhost:8080/"
        },
        "id": "Pc5lLQr2ijAN",
        "outputId": "52156057-0260-4626-907d-aa0d13876db8"
      },
      "source": [
        "np.sum(ll == mi_train_ss_label + 1)/len(ll)"
      ],
      "execution_count": 86,
      "outputs": [
        {
          "output_type": "execute_result",
          "data": {
            "text/plain": [
              "1.0"
            ]
          },
          "metadata": {
            "tags": []
          },
          "execution_count": 86
        }
      ]
    },
    {
      "cell_type": "code",
      "metadata": {
        "colab": {
          "base_uri": "https://localhost:8080/"
        },
        "id": "uN2-iIFbfaq2",
        "outputId": "a816b42f-c745-4d47-8727-01ee5360f7db"
      },
      "source": [
        "mi_train_ss.shape, eeg.shape"
      ],
      "execution_count": 49,
      "outputs": [
        {
          "output_type": "execute_result",
          "data": {
            "text/plain": [
              "((156, 62, 400), (10, 156, 400))"
            ]
          },
          "metadata": {
            "tags": []
          },
          "execution_count": 49
        }
      ]
    },
    {
      "cell_type": "code",
      "metadata": {
        "id": "0wZiRqXAWpDO"
      },
      "source": [
        "#[0] * len(mi_train) + [1] * len(erp_train) + [2] * len(ssvep_train)"
      ],
      "execution_count": null,
      "outputs": []
    },
    {
      "cell_type": "code",
      "metadata": {
        "id": "qbCM1H1vlsqi"
      },
      "source": [
        "#The stimulus-time interval was set to 80 ms, and the inter-stimulusinterval (ISI) to 135 ms. \n",
        "#A single iteration of stimulus presenta-tion in all rows and columns was considered a sequence. \n",
        "#There-fore, one sequence consisted of 12 stimulus flashes. A maximumof five sequences (i.e., 60 flashes) was \n",
        "#allotted without prolongedinter-sequence intervals for each target character. After the endof five sequences, \n",
        "#4.5 s were given to the user for identifying, lo-cating, and gazing at the next target character.\n",
        "\n",
        "#The offline EEG data that were acquired in the training phase were band-pass filtered between 0.5 and 40 Hz \n",
        "#with a 5th order Butterworthdigital filter. The continuous EEG data were segmented from– 200 to 800 ms \n",
        "#with respect to stimulus onset and baseline-corrected by subtracting the mean amplitudes in the –200 to 0 ms pre-stimulus interval."
      ],
      "execution_count": null,
      "outputs": []
    },
    {
      "cell_type": "code",
      "metadata": {
        "id": "AvYxXk0aMLEy"
      },
      "source": [
        "#(4000, 100, 62)\n",
        "#(1434800, 62)\n",
        "#(1, 100)\n",
        "#array([[1000]], dtype=uint16)\n",
        "#array([[2, 1, 2, 2, 1, ... ]]  --- (1, 100)\n",
        "#[[0, 1, 0 ... --- (2, 100)\n",
        "#array([[array(['left'], dtype='<U4'), array(['right'], dtype='<U5'), ...  --- (1, 100)\n",
        "#77777777777777777777777777777777777777777777777777777777777777777777777\n",
        "#array([[array(['1'], dtype='<U1'), array(['right'], dtype='<U5')],\n",
        "#       [array(['2'], dtype='<U1'), array(['left'], dtype='<U4')]],\n",
        "#88888888888888888888888888888888888888888888888888888888888888888888888\n",
        "# array([[array(['Fp1'], dtype='<U3'), array(['Fp2'], dtype='<U3'), ...   --- (1, 62)\n",
        "# array([[   1,    2,    3, ..., 3998, 3999, 4000]], dtype=uint16)\n",
        "# array([[   0, 4000]], dtype=uint16)\n",
        "# (1434800, 4)\n",
        "# (1, 4)\n",
        "#121212121212121212121212121212121212121212121212121212121212121212121212\n",
        "#array([[array(['EMG1'], dtype='<U4'), array(['EMG2'], dtype='<U4'),\n",
        "#        array(['EMG3'], dtype='<U4'), array(['EMG4'], dtype='<U4')]],\n",
        "#131313131313131313131313131313131313131313131313131313131313131313131313\n",
        "#(60000, 62)\n",
        "#(60000, 62)\n",
        "#array([[    0, 60000]], dtype=uint16)\n",
        "#\n",
        "# sampling rate of 1,000 Hz\n",
        "# 62 Ag/AgCl electrodes --- 62 EEG and 4 EMG recording electrode\n",
        "# the first 3 s of each trial beganwith a black fixation\n",
        "# appropriate hand for 4 s\n",
        "# blank for 6 s\n",
        "# each phase had 100 trials\n",
        "# During the online test phase, the fixation cross  moved right or left, according to the real-time classifier output of the EEG signal \n",
        "# we  visualized  the  physiological  brain  responses BCI paradigms: event-related desynchroniza-tion/synchronization (ERD/ERS) for MI\n",
        "# All EEG data were commonly down-sampled to 100 Hz.\n",
        "#\n",
        "# MI data, 20 electrodes in the motor cortex region were selected (FC-5/3/1/2/4/6, C-5/3/1/z/2/4/6, and CP-5/3/1/z/2/4/6).\n",
        "# The offline EEG data were band-pass filtered between 8 and 30 Hz with a 5th order Butterworth band-pass filter digital filter\n",
        "# The continuous EEG data were then segmented from 1,000 to 3,500 ms with re-spect to stimulus onset.\n",
        "# EEG epochs were therefore constitutedas 250 (data points) ×20 (electrodes) ×100 (trials).\n",
        "# CSPs were used to maximize the discrimina-tion of the binary class\n",
        "# log-variance features were cal-culated\n",
        "# The LDA classifier was then calculated to decode theleft- or right-hand imagery task\n",
        "#\n",
        "# A subset of the top and bottomtwo rows from the CSP projection matrix and the LDA parame-ters were fed to the online data analysis\n",
        "# During the online test phase, a sliding window (length, 1.5 s;step size, 0.5 s) was created to classify the real-time EEG data.\n",
        "# the data in this window buffer were filtered with thefrequency range used in the training phase\n",
        "# and the CSP projec-tion matrix w was applied to these EEG data\n",
        "# The LDA outputswere calculated every 0.5 s\n",
        "# and transformed into coordinatesfor the horizontal x-axis of the cross to provide real-time visual feedback\n",
        "# MI performance was validated basedon 10 repetitions of 10-fold cross-validation from all \n",
        "# MI data (i.e.,training+test data) with the CSP method (CSP-cv)\n",
        "\n",
        "\"\"\"\n",
        "for i in range(len(mat['EEG_MI_test'][0][0])):\n",
        "  print(mat['EEG_MI_test'][0][0][i])\n",
        "  print(\"########shape########\")\n",
        "  print(mat['EEG_MI_test'][0][0][i].shape)\n",
        "  print(\"###################################################\")\n",
        "  print(\"####\", i+1, \"####\")\n",
        "\n",
        "\"\"\""
      ],
      "execution_count": null,
      "outputs": []
    }
  ]
}